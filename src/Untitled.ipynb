{
 "cells": [
  {
   "cell_type": "markdown",
   "metadata": {
    "deletable": true,
    "editable": true
   },
   "source": [
    "# This notebook goes over simple stuff\n",
    "### Part A\n",
    "1. First we will\n",
    "2. Eat butts\n",
    "    * Then fart\n",
    "    \n",
    "``` With code \n",
    "examples```"
   ]
  },
  {
   "cell_type": "code",
   "execution_count": 162,
   "metadata": {
    "collapsed": false,
    "deletable": true,
    "editable": true
   },
   "outputs": [],
   "source": [
    "import numpy as np\n",
    "import pandas as pd"
   ]
  },
  {
   "cell_type": "code",
   "execution_count": 12,
   "metadata": {
    "collapsed": false,
    "deletable": true,
    "editable": true
   },
   "outputs": [
    {
     "name": "stdout",
     "output_type": "stream",
     "text": [
      "36\n"
     ]
    }
   ],
   "source": [
    "x = 6\n",
    "y = 6\n",
    "z = x*y\n",
    "print(z)\n"
   ]
  },
  {
   "cell_type": "code",
   "execution_count": 30,
   "metadata": {
    "collapsed": false
   },
   "outputs": [
    {
     "name": "stdout",
     "output_type": "stream",
     "text": [
      "Enter variable 1: 2\n",
      "Enter variable 2: 4\n",
      "Enter Command: subtract\n"
     ]
    },
    {
     "ename": "SyntaxError",
     "evalue": "'break' outside loop (<ipython-input-30-0ff8a55c8074>, line 19)",
     "output_type": "error",
     "traceback": [
      "\u001b[1;36m  File \u001b[1;32m\"<ipython-input-30-0ff8a55c8074>\"\u001b[1;36m, line \u001b[1;32m19\u001b[0m\n\u001b[1;33m    break\u001b[0m\n\u001b[1;37m    ^\u001b[0m\n\u001b[1;31mSyntaxError\u001b[0m\u001b[1;31m:\u001b[0m 'break' outside loop\n"
     ]
    }
   ],
   "source": [
    "def add(x,y): # f(x,y) = x+y\n",
    "    return x+y\n",
    "\n",
    "def multiply(x,y):\n",
    "    return x*y\n",
    "\n",
    "def subtract(x,y):\n",
    "    return x-y\n",
    "\n",
    "var1 = float(input(\"Enter variable 1: \"))\n",
    "var2 = float(input(\"Enter variable 2: \"))\n",
    "function = input(\"Enter Command: \")\n",
    "\n",
    "if (function==\"add\"):\n",
    "    a = add(var1, var2)\n",
    "elif(function==\"multiply\"):\n",
    "    a = multiply(var1, var2)\n",
    "elif(function==\"subtract\"):\n",
    "    a = subtract(var1, var2)\n",
    "    \n",
    "z = int(a)\n",
    "print(\"Numbers: %.2f | %d\"%(a,z))"
   ]
  },
  {
   "cell_type": "code",
   "execution_count": 187,
   "metadata": {
    "collapsed": false
   },
   "outputs": [],
   "source": [
    "class Spell:\n",
    "    name = _\n",
    "    casting_time = _\n",
    "    damage = _\n",
    "    save = _\n",
    "    school = _\n",
    "    ingredients = []\n",
    "    description = _\n",
    "    \n",
    "    def __init__(self, name, casting_time, damage, save, school, ingredients, description):\n",
    "        self.name = name\n",
    "        self.casting_time = casting_time\n",
    "        self.damage = damage\n",
    "        self.save = save\n",
    "        self.school = school\n",
    "        self.ingredients = ingredients\n",
    "        self.description = description\n",
    "        \n",
    "    def show_spell(self):\n",
    "        print(\"  %s\"%self.name)\n",
    "        print(\"  %s\"%self.description)\n",
    "        print(\"  %s\"%self.school)"
   ]
  },
  {
   "cell_type": "code",
   "execution_count": 194,
   "metadata": {
    "collapsed": false,
    "deletable": true,
    "editable": true
   },
   "outputs": [],
   "source": [
    "class Character:\n",
    "    name = _\n",
    "    stats = _\n",
    "    c_class = _\n",
    "    spells = _\n",
    "    \n",
    "    def __init__ (self, name):#, age, char_class, level):\n",
    "        self.name = name\n",
    "        self.stats = {}\n",
    "        self.spells = []\n",
    "        self.rand_skills()\n",
    "        self.choose_class()\n",
    "        \n",
    "    def rand_skills(self):\n",
    "        self.stats['str'] = np.random.randint(10,18)\n",
    "        self.stats['dex'] = np.random.randint(10,18)\n",
    "        self.stats['con'] = np.random.randint(10,18)\n",
    "        self.stats['int'] = np.random.randint(10,18)\n",
    "        self.stats['wis'] = np.random.randint(10,18)\n",
    "        self.stats['cha'] = np.random.randint(10,18)\n",
    "        \n",
    "    def choose_class(self):\n",
    "        self.c_class = input(\"Choose class: \")\n",
    "    \n",
    "    def show_character(self):\n",
    "        print(\"My name is %s\" % self.name)\n",
    "        for key, value in self.stats.items():\n",
    "            print(\"%s: %d\"%(key, value))\n",
    "        print(\"My class is %s\" % self.c_class)\n",
    "        print(\"My spells are:\")\n",
    "        self.list_spells()\n",
    "        \n",
    "    def add_spell(self, spell):\n",
    "        self.spells.append(spell)\n",
    "    \n",
    "    def list_spells(self):\n",
    "        for spell in self.spells:\n",
    "            spell.show_spell()\n"
   ]
  },
  {
   "cell_type": "code",
   "execution_count": 195,
   "metadata": {
    "collapsed": true
   },
   "outputs": [],
   "source": [
    "spell_fireball = Spell(\"Fireball\", 1, \"3d6\", \"Dex\", \"Evocation\", [\"Bat Guano\", \"Sulphur\"], \"It goes boom\")\n"
   ]
  },
  {
   "cell_type": "code",
   "execution_count": 196,
   "metadata": {
    "collapsed": false,
    "deletable": true,
    "editable": true
   },
   "outputs": [
    {
     "name": "stdout",
     "output_type": "stream",
     "text": [
      "Choose class: Wizardo\n",
      "Choose class: Fighteroo\n"
     ]
    }
   ],
   "source": [
    "# self, name, casting_time, damage, save, school, ingredients, description):\n",
    "\n",
    "jake = Character(\"jake\")\n",
    "jake.add_spell(spell_fireball)\n",
    "sam  = Character(\"sam\")"
   ]
  },
  {
   "cell_type": "code",
   "execution_count": 197,
   "metadata": {
    "collapsed": false,
    "deletable": true,
    "editable": true
   },
   "outputs": [
    {
     "name": "stdout",
     "output_type": "stream",
     "text": [
      "My name is jake\n",
      "str: 12\n",
      "dex: 15\n",
      "con: 15\n",
      "int: 10\n",
      "wis: 12\n",
      "cha: 16\n",
      "My class is Wizardo\n",
      "My spells are:\n",
      "  Fireball\n",
      "  It goes boom\n",
      "  Evocation\n",
      "\n",
      "My name is sam\n",
      "str: 12\n",
      "dex: 12\n",
      "con: 10\n",
      "int: 14\n",
      "wis: 14\n",
      "cha: 11\n",
      "My class is Fighteroo\n",
      "My spells are:\n"
     ]
    }
   ],
   "source": [
    "jake.show_character()\n",
    "print()\n",
    "sam.show_character()"
   ]
  },
  {
   "cell_type": "code",
   "execution_count": null,
   "metadata": {
    "collapsed": true
   },
   "outputs": [],
   "source": []
  }
 ],
 "metadata": {
  "kernelspec": {
   "display_name": "Python 3",
   "language": "python",
   "name": "python3"
  },
  "language_info": {
   "codemirror_mode": {
    "name": "ipython",
    "version": 3
   },
   "file_extension": ".py",
   "mimetype": "text/x-python",
   "name": "python",
   "nbconvert_exporter": "python",
   "pygments_lexer": "ipython3",
   "version": "3.6.2"
  }
 },
 "nbformat": 4,
 "nbformat_minor": 2
}
